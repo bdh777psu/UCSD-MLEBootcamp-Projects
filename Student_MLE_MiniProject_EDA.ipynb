{
  "nbformat": 4,
  "nbformat_minor": 0,
  "metadata": {
    "colab": {
      "provenance": [],
      "include_colab_link": true
    },
    "kernelspec": {
      "name": "python3",
      "display_name": "Python 3"
    },
    "language_info": {
      "name": "python"
    }
  },
  "cells": [
    {
      "cell_type": "markdown",
      "metadata": {
        "id": "view-in-github",
        "colab_type": "text"
      },
      "source": [
        "<a href=\"https://colab.research.google.com/github/bdh777psu/ucsd-ml-projects/blob/main/Student_MLE_MiniProject_EDA.ipynb\" target=\"_parent\"><img src=\"https://colab.research.google.com/assets/colab-badge.svg\" alt=\"Open In Colab\"/></a>"
      ]
    },
    {
      "cell_type": "markdown",
      "source": [
        "# Mini Project: Exploratory Data Analysis"
      ],
      "metadata": {
        "id": "hVq3RjKJpJI0"
      }
    },
    {
      "cell_type": "markdown",
      "source": [
        "# Exploratory Data Analysis: Unveiling Insights from the NYC Taxi Dataset\n",
        "\n",
        "Data has become the lifeblood of the modern world, permeating every aspect of our lives and transforming the way we make decisions. In this era of vast information, the ability to extract meaningful insights from raw data has emerged as a crucial skill. Enter exploratory data analysis (EDA), a powerful approach that allows us to unravel hidden patterns, detect anomalies, and generate valuable knowledge from the vast volumes of data at our disposal.\n",
        "\n",
        "Exploratory data analysis serves as the initial step in any data-driven investigation, offering a comprehensive understanding of the dataset's structure, distributions, and relationships between variables. By applying statistical and visual techniques, analysts gain a deeper insight into the data, paving the way for more accurate predictions, informed decision-making, and the discovery of actionable insights.\n",
        "\n",
        "To illustrate the significance of exploratory data analysis, we delve into one of the most popular and widely studied datasets in the field—the [NYC Taxi Dataset](https://www.nyc.gov/site/tlc/about/tlc-trip-record-data.page). As the name suggests, this dataset captures detailed information about taxi trips within the bustling city of New York. The NYC Taxi Dataset is an ideal choice for learning and practicing EDA techniques due to its richness, complexity, and real-world applicability.\n",
        "\n",
        "The dataset encompasses a vast range of attributes, including pickup and drop-off locations, timestamps, trip durations, passenger counts, payment information, and much more. By exploring this data, we can gain valuable insights into the dynamics of taxi usage, understand travel patterns across different neighborhoods, identify peak hours of demand, analyze fare structures, and even uncover interesting anecdotes about the city's vibrant life.\n",
        "\n",
        "The NYC Taxi Dataset is an excellent resource for aspiring ML practitioners to develop their EDA skills. Its scale, complexity, and real-world relevance make it an engaging playground for uncovering hidden patterns, generating hypotheses, and forming data-driven narratives.\n",
        "\n",
        "In this mini project, we will dive deep into the NYC Taxi Dataset. We will leverage various EDA techniques to unveil meaningful insights, visualize data distributions, identify outliers, and pose insightful questions that will fuel further analysis and exploration. By the end of this colab, students will have a solid foundation in exploratory data analysis and be equipped to tackle real-world data challenges with confidence."
      ],
      "metadata": {
        "id": "ajb94WgIRdgC"
      }
    },
    {
      "cell_type": "code",
      "source": [
        "import pandas as pd\n",
        "import matplotlib.pyplot as plt\n",
        "import seaborn as sns"
      ],
      "metadata": {
        "id": "lbJFWLELlI6N"
      },
      "execution_count": 46,
      "outputs": []
    },
    {
      "cell_type": "markdown",
      "source": [
        "Load the NYC taxi dataset into a Pandas DataFrame and do a few basic checks to ensure the data is loaded properly. Note, there are several months of data that can be used. For simplicity, use the Yellow Taxi 2022-01 parquet file [here](https://d37ci6vzurychx.cloudfront.net/trip-data/yellow_tripdata_2022-01.parquet). Here are your tasks:\n",
        "\n",
        "  1. Load the `yellow_tripdata_2022-01.parquet` file into Pandas.\n",
        "  2. Print the first 5 rows of data. Study the schema and make sure you understand what each of the fields mean by referencing the [documentation](https://www.nyc.gov/assets/tlc/downloads/pdf/data_dictionary_trip_records_yellow.pdf).\n",
        "  3. How many rows are in the dataset? How many unique columns are in the dataset?\n",
        "  4. Which columns have NULL values and how many NULL values are present in each of these columns?\n",
        "  5. Generate summary statistics using Pandas' [describe method](https://pandas.pydata.org/docs/reference/api/pandas.DataFrame.describe.html). Do you notice anything unusual in the dataset? Find at least one anomoly and try to come up with a hypothesis to explain it.  \n",
        "  6. Drop all rows with NULL values and store the result. We'll ignore NULL valued rows in this mini-project.\n"
      ],
      "metadata": {
        "id": "sgK6-XtjVnjj"
      }
    },
    {
      "cell_type": "code",
      "source": [
        "# Load parquet file into a Pandas DataFrame\n",
        "yellow_tripdata = pd.read_parquet(path='https://d37ci6vzurychx.cloudfront.net/trip-data/yellow_tripdata_2022-01.parquet')"
      ],
      "metadata": {
        "id": "db--eb8zlNNg"
      },
      "execution_count": 47,
      "outputs": []
    },
    {
      "cell_type": "code",
      "source": [
        "# Display the first few rows of the dataset\n",
        "yellow_tripdata.head()"
      ],
      "metadata": {
        "id": "TslBuHoXl_o1",
        "colab": {
          "base_uri": "https://localhost:8080/",
          "height": 226
        },
        "outputId": "11623b78-931b-4c98-87a2-a76b04e025b0"
      },
      "execution_count": 48,
      "outputs": [
        {
          "output_type": "execute_result",
          "data": {
            "text/plain": [
              "   VendorID tpep_pickup_datetime tpep_dropoff_datetime  passenger_count  \\\n",
              "0         1  2022-01-01 00:35:40   2022-01-01 00:53:29              2.0   \n",
              "1         1  2022-01-01 00:33:43   2022-01-01 00:42:07              1.0   \n",
              "2         2  2022-01-01 00:53:21   2022-01-01 01:02:19              1.0   \n",
              "3         2  2022-01-01 00:25:21   2022-01-01 00:35:23              1.0   \n",
              "4         2  2022-01-01 00:36:48   2022-01-01 01:14:20              1.0   \n",
              "\n",
              "   trip_distance  RatecodeID store_and_fwd_flag  PULocationID  DOLocationID  \\\n",
              "0           3.80         1.0                  N           142           236   \n",
              "1           2.10         1.0                  N           236            42   \n",
              "2           0.97         1.0                  N           166           166   \n",
              "3           1.09         1.0                  N           114            68   \n",
              "4           4.30         1.0                  N            68           163   \n",
              "\n",
              "   payment_type  fare_amount  extra  mta_tax  tip_amount  tolls_amount  \\\n",
              "0             1         14.5    3.0      0.5        3.65           0.0   \n",
              "1             1          8.0    0.5      0.5        4.00           0.0   \n",
              "2             1          7.5    0.5      0.5        1.76           0.0   \n",
              "3             2          8.0    0.5      0.5        0.00           0.0   \n",
              "4             1         23.5    0.5      0.5        3.00           0.0   \n",
              "\n",
              "   improvement_surcharge  total_amount  congestion_surcharge  airport_fee  \n",
              "0                    0.3         21.95                   2.5          0.0  \n",
              "1                    0.3         13.30                   0.0          0.0  \n",
              "2                    0.3         10.56                   0.0          0.0  \n",
              "3                    0.3         11.80                   2.5          0.0  \n",
              "4                    0.3         30.30                   2.5          0.0  "
            ],
            "text/html": [
              "\n",
              "  <div id=\"df-13a5bb02-16c8-4946-9d7e-60bce3956812\" class=\"colab-df-container\">\n",
              "    <div>\n",
              "<style scoped>\n",
              "    .dataframe tbody tr th:only-of-type {\n",
              "        vertical-align: middle;\n",
              "    }\n",
              "\n",
              "    .dataframe tbody tr th {\n",
              "        vertical-align: top;\n",
              "    }\n",
              "\n",
              "    .dataframe thead th {\n",
              "        text-align: right;\n",
              "    }\n",
              "</style>\n",
              "<table border=\"1\" class=\"dataframe\">\n",
              "  <thead>\n",
              "    <tr style=\"text-align: right;\">\n",
              "      <th></th>\n",
              "      <th>VendorID</th>\n",
              "      <th>tpep_pickup_datetime</th>\n",
              "      <th>tpep_dropoff_datetime</th>\n",
              "      <th>passenger_count</th>\n",
              "      <th>trip_distance</th>\n",
              "      <th>RatecodeID</th>\n",
              "      <th>store_and_fwd_flag</th>\n",
              "      <th>PULocationID</th>\n",
              "      <th>DOLocationID</th>\n",
              "      <th>payment_type</th>\n",
              "      <th>fare_amount</th>\n",
              "      <th>extra</th>\n",
              "      <th>mta_tax</th>\n",
              "      <th>tip_amount</th>\n",
              "      <th>tolls_amount</th>\n",
              "      <th>improvement_surcharge</th>\n",
              "      <th>total_amount</th>\n",
              "      <th>congestion_surcharge</th>\n",
              "      <th>airport_fee</th>\n",
              "    </tr>\n",
              "  </thead>\n",
              "  <tbody>\n",
              "    <tr>\n",
              "      <th>0</th>\n",
              "      <td>1</td>\n",
              "      <td>2022-01-01 00:35:40</td>\n",
              "      <td>2022-01-01 00:53:29</td>\n",
              "      <td>2.0</td>\n",
              "      <td>3.80</td>\n",
              "      <td>1.0</td>\n",
              "      <td>N</td>\n",
              "      <td>142</td>\n",
              "      <td>236</td>\n",
              "      <td>1</td>\n",
              "      <td>14.5</td>\n",
              "      <td>3.0</td>\n",
              "      <td>0.5</td>\n",
              "      <td>3.65</td>\n",
              "      <td>0.0</td>\n",
              "      <td>0.3</td>\n",
              "      <td>21.95</td>\n",
              "      <td>2.5</td>\n",
              "      <td>0.0</td>\n",
              "    </tr>\n",
              "    <tr>\n",
              "      <th>1</th>\n",
              "      <td>1</td>\n",
              "      <td>2022-01-01 00:33:43</td>\n",
              "      <td>2022-01-01 00:42:07</td>\n",
              "      <td>1.0</td>\n",
              "      <td>2.10</td>\n",
              "      <td>1.0</td>\n",
              "      <td>N</td>\n",
              "      <td>236</td>\n",
              "      <td>42</td>\n",
              "      <td>1</td>\n",
              "      <td>8.0</td>\n",
              "      <td>0.5</td>\n",
              "      <td>0.5</td>\n",
              "      <td>4.00</td>\n",
              "      <td>0.0</td>\n",
              "      <td>0.3</td>\n",
              "      <td>13.30</td>\n",
              "      <td>0.0</td>\n",
              "      <td>0.0</td>\n",
              "    </tr>\n",
              "    <tr>\n",
              "      <th>2</th>\n",
              "      <td>2</td>\n",
              "      <td>2022-01-01 00:53:21</td>\n",
              "      <td>2022-01-01 01:02:19</td>\n",
              "      <td>1.0</td>\n",
              "      <td>0.97</td>\n",
              "      <td>1.0</td>\n",
              "      <td>N</td>\n",
              "      <td>166</td>\n",
              "      <td>166</td>\n",
              "      <td>1</td>\n",
              "      <td>7.5</td>\n",
              "      <td>0.5</td>\n",
              "      <td>0.5</td>\n",
              "      <td>1.76</td>\n",
              "      <td>0.0</td>\n",
              "      <td>0.3</td>\n",
              "      <td>10.56</td>\n",
              "      <td>0.0</td>\n",
              "      <td>0.0</td>\n",
              "    </tr>\n",
              "    <tr>\n",
              "      <th>3</th>\n",
              "      <td>2</td>\n",
              "      <td>2022-01-01 00:25:21</td>\n",
              "      <td>2022-01-01 00:35:23</td>\n",
              "      <td>1.0</td>\n",
              "      <td>1.09</td>\n",
              "      <td>1.0</td>\n",
              "      <td>N</td>\n",
              "      <td>114</td>\n",
              "      <td>68</td>\n",
              "      <td>2</td>\n",
              "      <td>8.0</td>\n",
              "      <td>0.5</td>\n",
              "      <td>0.5</td>\n",
              "      <td>0.00</td>\n",
              "      <td>0.0</td>\n",
              "      <td>0.3</td>\n",
              "      <td>11.80</td>\n",
              "      <td>2.5</td>\n",
              "      <td>0.0</td>\n",
              "    </tr>\n",
              "    <tr>\n",
              "      <th>4</th>\n",
              "      <td>2</td>\n",
              "      <td>2022-01-01 00:36:48</td>\n",
              "      <td>2022-01-01 01:14:20</td>\n",
              "      <td>1.0</td>\n",
              "      <td>4.30</td>\n",
              "      <td>1.0</td>\n",
              "      <td>N</td>\n",
              "      <td>68</td>\n",
              "      <td>163</td>\n",
              "      <td>1</td>\n",
              "      <td>23.5</td>\n",
              "      <td>0.5</td>\n",
              "      <td>0.5</td>\n",
              "      <td>3.00</td>\n",
              "      <td>0.0</td>\n",
              "      <td>0.3</td>\n",
              "      <td>30.30</td>\n",
              "      <td>2.5</td>\n",
              "      <td>0.0</td>\n",
              "    </tr>\n",
              "  </tbody>\n",
              "</table>\n",
              "</div>\n",
              "    <div class=\"colab-df-buttons\">\n",
              "\n",
              "  <div class=\"colab-df-container\">\n",
              "    <button class=\"colab-df-convert\" onclick=\"convertToInteractive('df-13a5bb02-16c8-4946-9d7e-60bce3956812')\"\n",
              "            title=\"Convert this dataframe to an interactive table.\"\n",
              "            style=\"display:none;\">\n",
              "\n",
              "  <svg xmlns=\"http://www.w3.org/2000/svg\" height=\"24px\" viewBox=\"0 -960 960 960\">\n",
              "    <path d=\"M120-120v-720h720v720H120Zm60-500h600v-160H180v160Zm220 220h160v-160H400v160Zm0 220h160v-160H400v160ZM180-400h160v-160H180v160Zm440 0h160v-160H620v160ZM180-180h160v-160H180v160Zm440 0h160v-160H620v160Z\"/>\n",
              "  </svg>\n",
              "    </button>\n",
              "\n",
              "  <style>\n",
              "    .colab-df-container {\n",
              "      display:flex;\n",
              "      gap: 12px;\n",
              "    }\n",
              "\n",
              "    .colab-df-convert {\n",
              "      background-color: #E8F0FE;\n",
              "      border: none;\n",
              "      border-radius: 50%;\n",
              "      cursor: pointer;\n",
              "      display: none;\n",
              "      fill: #1967D2;\n",
              "      height: 32px;\n",
              "      padding: 0 0 0 0;\n",
              "      width: 32px;\n",
              "    }\n",
              "\n",
              "    .colab-df-convert:hover {\n",
              "      background-color: #E2EBFA;\n",
              "      box-shadow: 0px 1px 2px rgba(60, 64, 67, 0.3), 0px 1px 3px 1px rgba(60, 64, 67, 0.15);\n",
              "      fill: #174EA6;\n",
              "    }\n",
              "\n",
              "    .colab-df-buttons div {\n",
              "      margin-bottom: 4px;\n",
              "    }\n",
              "\n",
              "    [theme=dark] .colab-df-convert {\n",
              "      background-color: #3B4455;\n",
              "      fill: #D2E3FC;\n",
              "    }\n",
              "\n",
              "    [theme=dark] .colab-df-convert:hover {\n",
              "      background-color: #434B5C;\n",
              "      box-shadow: 0px 1px 3px 1px rgba(0, 0, 0, 0.15);\n",
              "      filter: drop-shadow(0px 1px 2px rgba(0, 0, 0, 0.3));\n",
              "      fill: #FFFFFF;\n",
              "    }\n",
              "  </style>\n",
              "\n",
              "    <script>\n",
              "      const buttonEl =\n",
              "        document.querySelector('#df-13a5bb02-16c8-4946-9d7e-60bce3956812 button.colab-df-convert');\n",
              "      buttonEl.style.display =\n",
              "        google.colab.kernel.accessAllowed ? 'block' : 'none';\n",
              "\n",
              "      async function convertToInteractive(key) {\n",
              "        const element = document.querySelector('#df-13a5bb02-16c8-4946-9d7e-60bce3956812');\n",
              "        const dataTable =\n",
              "          await google.colab.kernel.invokeFunction('convertToInteractive',\n",
              "                                                    [key], {});\n",
              "        if (!dataTable) return;\n",
              "\n",
              "        const docLinkHtml = 'Like what you see? Visit the ' +\n",
              "          '<a target=\"_blank\" href=https://colab.research.google.com/notebooks/data_table.ipynb>data table notebook</a>'\n",
              "          + ' to learn more about interactive tables.';\n",
              "        element.innerHTML = '';\n",
              "        dataTable['output_type'] = 'display_data';\n",
              "        await google.colab.output.renderOutput(dataTable, element);\n",
              "        const docLink = document.createElement('div');\n",
              "        docLink.innerHTML = docLinkHtml;\n",
              "        element.appendChild(docLink);\n",
              "      }\n",
              "    </script>\n",
              "  </div>\n",
              "\n",
              "\n",
              "<div id=\"df-f2ad9716-c3ca-4fd8-a7de-f54f82c53945\">\n",
              "  <button class=\"colab-df-quickchart\" onclick=\"quickchart('df-f2ad9716-c3ca-4fd8-a7de-f54f82c53945')\"\n",
              "            title=\"Suggest charts\"\n",
              "            style=\"display:none;\">\n",
              "\n",
              "<svg xmlns=\"http://www.w3.org/2000/svg\" height=\"24px\"viewBox=\"0 0 24 24\"\n",
              "     width=\"24px\">\n",
              "    <g>\n",
              "        <path d=\"M19 3H5c-1.1 0-2 .9-2 2v14c0 1.1.9 2 2 2h14c1.1 0 2-.9 2-2V5c0-1.1-.9-2-2-2zM9 17H7v-7h2v7zm4 0h-2V7h2v10zm4 0h-2v-4h2v4z\"/>\n",
              "    </g>\n",
              "</svg>\n",
              "  </button>\n",
              "\n",
              "<style>\n",
              "  .colab-df-quickchart {\n",
              "      --bg-color: #E8F0FE;\n",
              "      --fill-color: #1967D2;\n",
              "      --hover-bg-color: #E2EBFA;\n",
              "      --hover-fill-color: #174EA6;\n",
              "      --disabled-fill-color: #AAA;\n",
              "      --disabled-bg-color: #DDD;\n",
              "  }\n",
              "\n",
              "  [theme=dark] .colab-df-quickchart {\n",
              "      --bg-color: #3B4455;\n",
              "      --fill-color: #D2E3FC;\n",
              "      --hover-bg-color: #434B5C;\n",
              "      --hover-fill-color: #FFFFFF;\n",
              "      --disabled-bg-color: #3B4455;\n",
              "      --disabled-fill-color: #666;\n",
              "  }\n",
              "\n",
              "  .colab-df-quickchart {\n",
              "    background-color: var(--bg-color);\n",
              "    border: none;\n",
              "    border-radius: 50%;\n",
              "    cursor: pointer;\n",
              "    display: none;\n",
              "    fill: var(--fill-color);\n",
              "    height: 32px;\n",
              "    padding: 0;\n",
              "    width: 32px;\n",
              "  }\n",
              "\n",
              "  .colab-df-quickchart:hover {\n",
              "    background-color: var(--hover-bg-color);\n",
              "    box-shadow: 0 1px 2px rgba(60, 64, 67, 0.3), 0 1px 3px 1px rgba(60, 64, 67, 0.15);\n",
              "    fill: var(--button-hover-fill-color);\n",
              "  }\n",
              "\n",
              "  .colab-df-quickchart-complete:disabled,\n",
              "  .colab-df-quickchart-complete:disabled:hover {\n",
              "    background-color: var(--disabled-bg-color);\n",
              "    fill: var(--disabled-fill-color);\n",
              "    box-shadow: none;\n",
              "  }\n",
              "\n",
              "  .colab-df-spinner {\n",
              "    border: 2px solid var(--fill-color);\n",
              "    border-color: transparent;\n",
              "    border-bottom-color: var(--fill-color);\n",
              "    animation:\n",
              "      spin 1s steps(1) infinite;\n",
              "  }\n",
              "\n",
              "  @keyframes spin {\n",
              "    0% {\n",
              "      border-color: transparent;\n",
              "      border-bottom-color: var(--fill-color);\n",
              "      border-left-color: var(--fill-color);\n",
              "    }\n",
              "    20% {\n",
              "      border-color: transparent;\n",
              "      border-left-color: var(--fill-color);\n",
              "      border-top-color: var(--fill-color);\n",
              "    }\n",
              "    30% {\n",
              "      border-color: transparent;\n",
              "      border-left-color: var(--fill-color);\n",
              "      border-top-color: var(--fill-color);\n",
              "      border-right-color: var(--fill-color);\n",
              "    }\n",
              "    40% {\n",
              "      border-color: transparent;\n",
              "      border-right-color: var(--fill-color);\n",
              "      border-top-color: var(--fill-color);\n",
              "    }\n",
              "    60% {\n",
              "      border-color: transparent;\n",
              "      border-right-color: var(--fill-color);\n",
              "    }\n",
              "    80% {\n",
              "      border-color: transparent;\n",
              "      border-right-color: var(--fill-color);\n",
              "      border-bottom-color: var(--fill-color);\n",
              "    }\n",
              "    90% {\n",
              "      border-color: transparent;\n",
              "      border-bottom-color: var(--fill-color);\n",
              "    }\n",
              "  }\n",
              "</style>\n",
              "\n",
              "  <script>\n",
              "    async function quickchart(key) {\n",
              "      const quickchartButtonEl =\n",
              "        document.querySelector('#' + key + ' button');\n",
              "      quickchartButtonEl.disabled = true;  // To prevent multiple clicks.\n",
              "      quickchartButtonEl.classList.add('colab-df-spinner');\n",
              "      try {\n",
              "        const charts = await google.colab.kernel.invokeFunction(\n",
              "            'suggestCharts', [key], {});\n",
              "      } catch (error) {\n",
              "        console.error('Error during call to suggestCharts:', error);\n",
              "      }\n",
              "      quickchartButtonEl.classList.remove('colab-df-spinner');\n",
              "      quickchartButtonEl.classList.add('colab-df-quickchart-complete');\n",
              "    }\n",
              "    (() => {\n",
              "      let quickchartButtonEl =\n",
              "        document.querySelector('#df-f2ad9716-c3ca-4fd8-a7de-f54f82c53945 button');\n",
              "      quickchartButtonEl.style.display =\n",
              "        google.colab.kernel.accessAllowed ? 'block' : 'none';\n",
              "    })();\n",
              "  </script>\n",
              "</div>\n",
              "\n",
              "    </div>\n",
              "  </div>\n"
            ]
          },
          "metadata": {},
          "execution_count": 48
        }
      ]
    },
    {
      "cell_type": "code",
      "source": [
        "# Display the shape of the dataset\n",
        "yellow_tripdata.shape"
      ],
      "metadata": {
        "id": "jkQN2lBymKH-",
        "colab": {
          "base_uri": "https://localhost:8080/"
        },
        "outputId": "1479e16f-8363-4b04-c405-9961a23aab4d"
      },
      "execution_count": 49,
      "outputs": [
        {
          "output_type": "execute_result",
          "data": {
            "text/plain": [
              "(2463931, 19)"
            ]
          },
          "metadata": {},
          "execution_count": 49
        }
      ]
    },
    {
      "cell_type": "code",
      "source": [
        "# Check for missing values\n",
        "yellow_tripdata.isna"
      ],
      "metadata": {
        "id": "N8JeOtV5mQJ7",
        "colab": {
          "base_uri": "https://localhost:8080/"
        },
        "outputId": "1fd266a7-ae0b-49f0-875b-70e36c2ae9a1"
      },
      "execution_count": 50,
      "outputs": [
        {
          "output_type": "execute_result",
          "data": {
            "text/plain": [
              "<bound method DataFrame.isna of          VendorID tpep_pickup_datetime tpep_dropoff_datetime  passenger_count  \\\n",
              "0               1  2022-01-01 00:35:40   2022-01-01 00:53:29              2.0   \n",
              "1               1  2022-01-01 00:33:43   2022-01-01 00:42:07              1.0   \n",
              "2               2  2022-01-01 00:53:21   2022-01-01 01:02:19              1.0   \n",
              "3               2  2022-01-01 00:25:21   2022-01-01 00:35:23              1.0   \n",
              "4               2  2022-01-01 00:36:48   2022-01-01 01:14:20              1.0   \n",
              "...           ...                  ...                   ...              ...   \n",
              "2463926         2  2022-01-31 23:36:53   2022-01-31 23:42:51              NaN   \n",
              "2463927         2  2022-01-31 23:44:22   2022-01-31 23:55:01              NaN   \n",
              "2463928         2  2022-01-31 23:39:00   2022-01-31 23:50:00              NaN   \n",
              "2463929         2  2022-01-31 23:36:42   2022-01-31 23:48:45              NaN   \n",
              "2463930         2  2022-01-31 23:46:00   2022-02-01 00:13:00              NaN   \n",
              "\n",
              "         trip_distance  RatecodeID store_and_fwd_flag  PULocationID  \\\n",
              "0                 3.80         1.0                  N           142   \n",
              "1                 2.10         1.0                  N           236   \n",
              "2                 0.97         1.0                  N           166   \n",
              "3                 1.09         1.0                  N           114   \n",
              "4                 4.30         1.0                  N            68   \n",
              "...                ...         ...                ...           ...   \n",
              "2463926           1.32         NaN               None            90   \n",
              "2463927           4.19         NaN               None           107   \n",
              "2463928           2.10         NaN               None           113   \n",
              "2463929           2.92         NaN               None           148   \n",
              "2463930           8.94         NaN               None           186   \n",
              "\n",
              "         DOLocationID  payment_type  fare_amount  extra  mta_tax  tip_amount  \\\n",
              "0                 236             1        14.50    3.0      0.5        3.65   \n",
              "1                  42             1         8.00    0.5      0.5        4.00   \n",
              "2                 166             1         7.50    0.5      0.5        1.76   \n",
              "3                  68             2         8.00    0.5      0.5        0.00   \n",
              "4                 163             1        23.50    0.5      0.5        3.00   \n",
              "...               ...           ...          ...    ...      ...         ...   \n",
              "2463926           170             0         8.00    0.0      0.5        2.39   \n",
              "2463927            75             0        16.80    0.0      0.5        4.35   \n",
              "2463928           246             0        11.22    0.0      0.5        2.00   \n",
              "2463929           164             0        12.40    0.0      0.5        0.00   \n",
              "2463930           181             0        25.48    0.0      0.5        6.28   \n",
              "\n",
              "         tolls_amount  improvement_surcharge  total_amount  \\\n",
              "0                 0.0                    0.3         21.95   \n",
              "1                 0.0                    0.3         13.30   \n",
              "2                 0.0                    0.3         10.56   \n",
              "3                 0.0                    0.3         11.80   \n",
              "4                 0.0                    0.3         30.30   \n",
              "...               ...                    ...           ...   \n",
              "2463926           0.0                    0.3         13.69   \n",
              "2463927           0.0                    0.3         24.45   \n",
              "2463928           0.0                    0.3         16.52   \n",
              "2463929           0.0                    0.3         15.70   \n",
              "2463930           0.0                    0.3         35.06   \n",
              "\n",
              "         congestion_surcharge  airport_fee  \n",
              "0                         2.5          0.0  \n",
              "1                         0.0          0.0  \n",
              "2                         0.0          0.0  \n",
              "3                         2.5          0.0  \n",
              "4                         2.5          0.0  \n",
              "...                       ...          ...  \n",
              "2463926                   NaN          NaN  \n",
              "2463927                   NaN          NaN  \n",
              "2463928                   NaN          NaN  \n",
              "2463929                   NaN          NaN  \n",
              "2463930                   NaN          NaN  \n",
              "\n",
              "[2463931 rows x 19 columns]>"
            ]
          },
          "metadata": {},
          "execution_count": 50
        }
      ]
    },
    {
      "cell_type": "code",
      "source": [
        "# Summary statistics of the dataset\n",
        "yellow_tripdata.describe()"
      ],
      "metadata": {
        "id": "h9q5SOrql5mS",
        "colab": {
          "base_uri": "https://localhost:8080/",
          "height": 338
        },
        "outputId": "351b1f9a-c4eb-49b6-d07d-b03255c6856c"
      },
      "execution_count": 51,
      "outputs": [
        {
          "output_type": "execute_result",
          "data": {
            "text/plain": [
              "           VendorID  passenger_count  trip_distance    RatecodeID  \\\n",
              "count  2.463931e+06     2.392428e+06   2.463931e+06  2.392428e+06   \n",
              "mean   1.707819e+00     1.389453e+00   5.372751e+00  1.415507e+00   \n",
              "std    5.021375e-01     9.829686e-01   5.478714e+02  5.917573e+00   \n",
              "min    1.000000e+00     0.000000e+00   0.000000e+00  1.000000e+00   \n",
              "25%    1.000000e+00     1.000000e+00   1.040000e+00  1.000000e+00   \n",
              "50%    2.000000e+00     1.000000e+00   1.740000e+00  1.000000e+00   \n",
              "75%    2.000000e+00     1.000000e+00   3.130000e+00  1.000000e+00   \n",
              "max    6.000000e+00     9.000000e+00   3.061593e+05  9.900000e+01   \n",
              "\n",
              "       PULocationID  DOLocationID  payment_type   fare_amount         extra  \\\n",
              "count  2.463931e+06  2.463931e+06  2.463931e+06  2.463931e+06  2.463931e+06   \n",
              "mean   1.660768e+02  1.635807e+02  1.194449e+00  1.294648e+01  1.006710e+00   \n",
              "std    6.546806e+01  7.079016e+01  5.001778e-01  2.558149e+02  1.236226e+00   \n",
              "min    1.000000e+00  1.000000e+00  0.000000e+00 -4.800000e+02 -4.500000e+00   \n",
              "25%    1.320000e+02  1.130000e+02  1.000000e+00  6.500000e+00  0.000000e+00   \n",
              "50%    1.620000e+02  1.620000e+02  1.000000e+00  9.000000e+00  5.000000e-01   \n",
              "75%    2.340000e+02  2.360000e+02  1.000000e+00  1.400000e+01  2.500000e+00   \n",
              "max    2.650000e+02  2.650000e+02  5.000000e+00  4.010923e+05  3.350000e+01   \n",
              "\n",
              "            mta_tax    tip_amount  tolls_amount  improvement_surcharge  \\\n",
              "count  2.463931e+06  2.463931e+06  2.463931e+06           2.463931e+06   \n",
              "mean   4.914539e-01  2.385696e+00  3.749773e-01           2.967234e-01   \n",
              "std    8.291560e-02  2.830698e+00  1.680538e+00           4.374741e-02   \n",
              "min   -5.000000e-01 -1.252200e+02 -3.140000e+01          -3.000000e-01   \n",
              "25%    5.000000e-01  7.200000e-01  0.000000e+00           3.000000e-01   \n",
              "50%    5.000000e-01  2.000000e+00  0.000000e+00           3.000000e-01   \n",
              "75%    5.000000e-01  3.000000e+00  0.000000e+00           3.000000e-01   \n",
              "max    1.659000e+01  8.888800e+02  1.933000e+02           3.000000e-01   \n",
              "\n",
              "       total_amount  congestion_surcharge   airport_fee  \n",
              "count  2.463931e+06          2.392428e+06  2.392428e+06  \n",
              "mean   1.916937e+01          2.282322e+00  8.249935e-02  \n",
              "std    2.559641e+02          7.432040e-01  3.125554e-01  \n",
              "min   -4.803000e+02         -2.500000e+00 -1.250000e+00  \n",
              "25%    1.130000e+01          2.500000e+00  0.000000e+00  \n",
              "50%    1.469000e+01          2.500000e+00  0.000000e+00  \n",
              "75%    2.002000e+01          2.500000e+00  0.000000e+00  \n",
              "max    4.010956e+05          2.500000e+00  1.250000e+00  "
            ],
            "text/html": [
              "\n",
              "  <div id=\"df-17345009-237e-4111-8d93-eee3c2dd3387\" class=\"colab-df-container\">\n",
              "    <div>\n",
              "<style scoped>\n",
              "    .dataframe tbody tr th:only-of-type {\n",
              "        vertical-align: middle;\n",
              "    }\n",
              "\n",
              "    .dataframe tbody tr th {\n",
              "        vertical-align: top;\n",
              "    }\n",
              "\n",
              "    .dataframe thead th {\n",
              "        text-align: right;\n",
              "    }\n",
              "</style>\n",
              "<table border=\"1\" class=\"dataframe\">\n",
              "  <thead>\n",
              "    <tr style=\"text-align: right;\">\n",
              "      <th></th>\n",
              "      <th>VendorID</th>\n",
              "      <th>passenger_count</th>\n",
              "      <th>trip_distance</th>\n",
              "      <th>RatecodeID</th>\n",
              "      <th>PULocationID</th>\n",
              "      <th>DOLocationID</th>\n",
              "      <th>payment_type</th>\n",
              "      <th>fare_amount</th>\n",
              "      <th>extra</th>\n",
              "      <th>mta_tax</th>\n",
              "      <th>tip_amount</th>\n",
              "      <th>tolls_amount</th>\n",
              "      <th>improvement_surcharge</th>\n",
              "      <th>total_amount</th>\n",
              "      <th>congestion_surcharge</th>\n",
              "      <th>airport_fee</th>\n",
              "    </tr>\n",
              "  </thead>\n",
              "  <tbody>\n",
              "    <tr>\n",
              "      <th>count</th>\n",
              "      <td>2.463931e+06</td>\n",
              "      <td>2.392428e+06</td>\n",
              "      <td>2.463931e+06</td>\n",
              "      <td>2.392428e+06</td>\n",
              "      <td>2.463931e+06</td>\n",
              "      <td>2.463931e+06</td>\n",
              "      <td>2.463931e+06</td>\n",
              "      <td>2.463931e+06</td>\n",
              "      <td>2.463931e+06</td>\n",
              "      <td>2.463931e+06</td>\n",
              "      <td>2.463931e+06</td>\n",
              "      <td>2.463931e+06</td>\n",
              "      <td>2.463931e+06</td>\n",
              "      <td>2.463931e+06</td>\n",
              "      <td>2.392428e+06</td>\n",
              "      <td>2.392428e+06</td>\n",
              "    </tr>\n",
              "    <tr>\n",
              "      <th>mean</th>\n",
              "      <td>1.707819e+00</td>\n",
              "      <td>1.389453e+00</td>\n",
              "      <td>5.372751e+00</td>\n",
              "      <td>1.415507e+00</td>\n",
              "      <td>1.660768e+02</td>\n",
              "      <td>1.635807e+02</td>\n",
              "      <td>1.194449e+00</td>\n",
              "      <td>1.294648e+01</td>\n",
              "      <td>1.006710e+00</td>\n",
              "      <td>4.914539e-01</td>\n",
              "      <td>2.385696e+00</td>\n",
              "      <td>3.749773e-01</td>\n",
              "      <td>2.967234e-01</td>\n",
              "      <td>1.916937e+01</td>\n",
              "      <td>2.282322e+00</td>\n",
              "      <td>8.249935e-02</td>\n",
              "    </tr>\n",
              "    <tr>\n",
              "      <th>std</th>\n",
              "      <td>5.021375e-01</td>\n",
              "      <td>9.829686e-01</td>\n",
              "      <td>5.478714e+02</td>\n",
              "      <td>5.917573e+00</td>\n",
              "      <td>6.546806e+01</td>\n",
              "      <td>7.079016e+01</td>\n",
              "      <td>5.001778e-01</td>\n",
              "      <td>2.558149e+02</td>\n",
              "      <td>1.236226e+00</td>\n",
              "      <td>8.291560e-02</td>\n",
              "      <td>2.830698e+00</td>\n",
              "      <td>1.680538e+00</td>\n",
              "      <td>4.374741e-02</td>\n",
              "      <td>2.559641e+02</td>\n",
              "      <td>7.432040e-01</td>\n",
              "      <td>3.125554e-01</td>\n",
              "    </tr>\n",
              "    <tr>\n",
              "      <th>min</th>\n",
              "      <td>1.000000e+00</td>\n",
              "      <td>0.000000e+00</td>\n",
              "      <td>0.000000e+00</td>\n",
              "      <td>1.000000e+00</td>\n",
              "      <td>1.000000e+00</td>\n",
              "      <td>1.000000e+00</td>\n",
              "      <td>0.000000e+00</td>\n",
              "      <td>-4.800000e+02</td>\n",
              "      <td>-4.500000e+00</td>\n",
              "      <td>-5.000000e-01</td>\n",
              "      <td>-1.252200e+02</td>\n",
              "      <td>-3.140000e+01</td>\n",
              "      <td>-3.000000e-01</td>\n",
              "      <td>-4.803000e+02</td>\n",
              "      <td>-2.500000e+00</td>\n",
              "      <td>-1.250000e+00</td>\n",
              "    </tr>\n",
              "    <tr>\n",
              "      <th>25%</th>\n",
              "      <td>1.000000e+00</td>\n",
              "      <td>1.000000e+00</td>\n",
              "      <td>1.040000e+00</td>\n",
              "      <td>1.000000e+00</td>\n",
              "      <td>1.320000e+02</td>\n",
              "      <td>1.130000e+02</td>\n",
              "      <td>1.000000e+00</td>\n",
              "      <td>6.500000e+00</td>\n",
              "      <td>0.000000e+00</td>\n",
              "      <td>5.000000e-01</td>\n",
              "      <td>7.200000e-01</td>\n",
              "      <td>0.000000e+00</td>\n",
              "      <td>3.000000e-01</td>\n",
              "      <td>1.130000e+01</td>\n",
              "      <td>2.500000e+00</td>\n",
              "      <td>0.000000e+00</td>\n",
              "    </tr>\n",
              "    <tr>\n",
              "      <th>50%</th>\n",
              "      <td>2.000000e+00</td>\n",
              "      <td>1.000000e+00</td>\n",
              "      <td>1.740000e+00</td>\n",
              "      <td>1.000000e+00</td>\n",
              "      <td>1.620000e+02</td>\n",
              "      <td>1.620000e+02</td>\n",
              "      <td>1.000000e+00</td>\n",
              "      <td>9.000000e+00</td>\n",
              "      <td>5.000000e-01</td>\n",
              "      <td>5.000000e-01</td>\n",
              "      <td>2.000000e+00</td>\n",
              "      <td>0.000000e+00</td>\n",
              "      <td>3.000000e-01</td>\n",
              "      <td>1.469000e+01</td>\n",
              "      <td>2.500000e+00</td>\n",
              "      <td>0.000000e+00</td>\n",
              "    </tr>\n",
              "    <tr>\n",
              "      <th>75%</th>\n",
              "      <td>2.000000e+00</td>\n",
              "      <td>1.000000e+00</td>\n",
              "      <td>3.130000e+00</td>\n",
              "      <td>1.000000e+00</td>\n",
              "      <td>2.340000e+02</td>\n",
              "      <td>2.360000e+02</td>\n",
              "      <td>1.000000e+00</td>\n",
              "      <td>1.400000e+01</td>\n",
              "      <td>2.500000e+00</td>\n",
              "      <td>5.000000e-01</td>\n",
              "      <td>3.000000e+00</td>\n",
              "      <td>0.000000e+00</td>\n",
              "      <td>3.000000e-01</td>\n",
              "      <td>2.002000e+01</td>\n",
              "      <td>2.500000e+00</td>\n",
              "      <td>0.000000e+00</td>\n",
              "    </tr>\n",
              "    <tr>\n",
              "      <th>max</th>\n",
              "      <td>6.000000e+00</td>\n",
              "      <td>9.000000e+00</td>\n",
              "      <td>3.061593e+05</td>\n",
              "      <td>9.900000e+01</td>\n",
              "      <td>2.650000e+02</td>\n",
              "      <td>2.650000e+02</td>\n",
              "      <td>5.000000e+00</td>\n",
              "      <td>4.010923e+05</td>\n",
              "      <td>3.350000e+01</td>\n",
              "      <td>1.659000e+01</td>\n",
              "      <td>8.888800e+02</td>\n",
              "      <td>1.933000e+02</td>\n",
              "      <td>3.000000e-01</td>\n",
              "      <td>4.010956e+05</td>\n",
              "      <td>2.500000e+00</td>\n",
              "      <td>1.250000e+00</td>\n",
              "    </tr>\n",
              "  </tbody>\n",
              "</table>\n",
              "</div>\n",
              "    <div class=\"colab-df-buttons\">\n",
              "\n",
              "  <div class=\"colab-df-container\">\n",
              "    <button class=\"colab-df-convert\" onclick=\"convertToInteractive('df-17345009-237e-4111-8d93-eee3c2dd3387')\"\n",
              "            title=\"Convert this dataframe to an interactive table.\"\n",
              "            style=\"display:none;\">\n",
              "\n",
              "  <svg xmlns=\"http://www.w3.org/2000/svg\" height=\"24px\" viewBox=\"0 -960 960 960\">\n",
              "    <path d=\"M120-120v-720h720v720H120Zm60-500h600v-160H180v160Zm220 220h160v-160H400v160Zm0 220h160v-160H400v160ZM180-400h160v-160H180v160Zm440 0h160v-160H620v160ZM180-180h160v-160H180v160Zm440 0h160v-160H620v160Z\"/>\n",
              "  </svg>\n",
              "    </button>\n",
              "\n",
              "  <style>\n",
              "    .colab-df-container {\n",
              "      display:flex;\n",
              "      gap: 12px;\n",
              "    }\n",
              "\n",
              "    .colab-df-convert {\n",
              "      background-color: #E8F0FE;\n",
              "      border: none;\n",
              "      border-radius: 50%;\n",
              "      cursor: pointer;\n",
              "      display: none;\n",
              "      fill: #1967D2;\n",
              "      height: 32px;\n",
              "      padding: 0 0 0 0;\n",
              "      width: 32px;\n",
              "    }\n",
              "\n",
              "    .colab-df-convert:hover {\n",
              "      background-color: #E2EBFA;\n",
              "      box-shadow: 0px 1px 2px rgba(60, 64, 67, 0.3), 0px 1px 3px 1px rgba(60, 64, 67, 0.15);\n",
              "      fill: #174EA6;\n",
              "    }\n",
              "\n",
              "    .colab-df-buttons div {\n",
              "      margin-bottom: 4px;\n",
              "    }\n",
              "\n",
              "    [theme=dark] .colab-df-convert {\n",
              "      background-color: #3B4455;\n",
              "      fill: #D2E3FC;\n",
              "    }\n",
              "\n",
              "    [theme=dark] .colab-df-convert:hover {\n",
              "      background-color: #434B5C;\n",
              "      box-shadow: 0px 1px 3px 1px rgba(0, 0, 0, 0.15);\n",
              "      filter: drop-shadow(0px 1px 2px rgba(0, 0, 0, 0.3));\n",
              "      fill: #FFFFFF;\n",
              "    }\n",
              "  </style>\n",
              "\n",
              "    <script>\n",
              "      const buttonEl =\n",
              "        document.querySelector('#df-17345009-237e-4111-8d93-eee3c2dd3387 button.colab-df-convert');\n",
              "      buttonEl.style.display =\n",
              "        google.colab.kernel.accessAllowed ? 'block' : 'none';\n",
              "\n",
              "      async function convertToInteractive(key) {\n",
              "        const element = document.querySelector('#df-17345009-237e-4111-8d93-eee3c2dd3387');\n",
              "        const dataTable =\n",
              "          await google.colab.kernel.invokeFunction('convertToInteractive',\n",
              "                                                    [key], {});\n",
              "        if (!dataTable) return;\n",
              "\n",
              "        const docLinkHtml = 'Like what you see? Visit the ' +\n",
              "          '<a target=\"_blank\" href=https://colab.research.google.com/notebooks/data_table.ipynb>data table notebook</a>'\n",
              "          + ' to learn more about interactive tables.';\n",
              "        element.innerHTML = '';\n",
              "        dataTable['output_type'] = 'display_data';\n",
              "        await google.colab.output.renderOutput(dataTable, element);\n",
              "        const docLink = document.createElement('div');\n",
              "        docLink.innerHTML = docLinkHtml;\n",
              "        element.appendChild(docLink);\n",
              "      }\n",
              "    </script>\n",
              "  </div>\n",
              "\n",
              "\n",
              "<div id=\"df-b65a1d7b-4b11-4a3d-b020-1fea8f0cfc4a\">\n",
              "  <button class=\"colab-df-quickchart\" onclick=\"quickchart('df-b65a1d7b-4b11-4a3d-b020-1fea8f0cfc4a')\"\n",
              "            title=\"Suggest charts\"\n",
              "            style=\"display:none;\">\n",
              "\n",
              "<svg xmlns=\"http://www.w3.org/2000/svg\" height=\"24px\"viewBox=\"0 0 24 24\"\n",
              "     width=\"24px\">\n",
              "    <g>\n",
              "        <path d=\"M19 3H5c-1.1 0-2 .9-2 2v14c0 1.1.9 2 2 2h14c1.1 0 2-.9 2-2V5c0-1.1-.9-2-2-2zM9 17H7v-7h2v7zm4 0h-2V7h2v10zm4 0h-2v-4h2v4z\"/>\n",
              "    </g>\n",
              "</svg>\n",
              "  </button>\n",
              "\n",
              "<style>\n",
              "  .colab-df-quickchart {\n",
              "      --bg-color: #E8F0FE;\n",
              "      --fill-color: #1967D2;\n",
              "      --hover-bg-color: #E2EBFA;\n",
              "      --hover-fill-color: #174EA6;\n",
              "      --disabled-fill-color: #AAA;\n",
              "      --disabled-bg-color: #DDD;\n",
              "  }\n",
              "\n",
              "  [theme=dark] .colab-df-quickchart {\n",
              "      --bg-color: #3B4455;\n",
              "      --fill-color: #D2E3FC;\n",
              "      --hover-bg-color: #434B5C;\n",
              "      --hover-fill-color: #FFFFFF;\n",
              "      --disabled-bg-color: #3B4455;\n",
              "      --disabled-fill-color: #666;\n",
              "  }\n",
              "\n",
              "  .colab-df-quickchart {\n",
              "    background-color: var(--bg-color);\n",
              "    border: none;\n",
              "    border-radius: 50%;\n",
              "    cursor: pointer;\n",
              "    display: none;\n",
              "    fill: var(--fill-color);\n",
              "    height: 32px;\n",
              "    padding: 0;\n",
              "    width: 32px;\n",
              "  }\n",
              "\n",
              "  .colab-df-quickchart:hover {\n",
              "    background-color: var(--hover-bg-color);\n",
              "    box-shadow: 0 1px 2px rgba(60, 64, 67, 0.3), 0 1px 3px 1px rgba(60, 64, 67, 0.15);\n",
              "    fill: var(--button-hover-fill-color);\n",
              "  }\n",
              "\n",
              "  .colab-df-quickchart-complete:disabled,\n",
              "  .colab-df-quickchart-complete:disabled:hover {\n",
              "    background-color: var(--disabled-bg-color);\n",
              "    fill: var(--disabled-fill-color);\n",
              "    box-shadow: none;\n",
              "  }\n",
              "\n",
              "  .colab-df-spinner {\n",
              "    border: 2px solid var(--fill-color);\n",
              "    border-color: transparent;\n",
              "    border-bottom-color: var(--fill-color);\n",
              "    animation:\n",
              "      spin 1s steps(1) infinite;\n",
              "  }\n",
              "\n",
              "  @keyframes spin {\n",
              "    0% {\n",
              "      border-color: transparent;\n",
              "      border-bottom-color: var(--fill-color);\n",
              "      border-left-color: var(--fill-color);\n",
              "    }\n",
              "    20% {\n",
              "      border-color: transparent;\n",
              "      border-left-color: var(--fill-color);\n",
              "      border-top-color: var(--fill-color);\n",
              "    }\n",
              "    30% {\n",
              "      border-color: transparent;\n",
              "      border-left-color: var(--fill-color);\n",
              "      border-top-color: var(--fill-color);\n",
              "      border-right-color: var(--fill-color);\n",
              "    }\n",
              "    40% {\n",
              "      border-color: transparent;\n",
              "      border-right-color: var(--fill-color);\n",
              "      border-top-color: var(--fill-color);\n",
              "    }\n",
              "    60% {\n",
              "      border-color: transparent;\n",
              "      border-right-color: var(--fill-color);\n",
              "    }\n",
              "    80% {\n",
              "      border-color: transparent;\n",
              "      border-right-color: var(--fill-color);\n",
              "      border-bottom-color: var(--fill-color);\n",
              "    }\n",
              "    90% {\n",
              "      border-color: transparent;\n",
              "      border-bottom-color: var(--fill-color);\n",
              "    }\n",
              "  }\n",
              "</style>\n",
              "\n",
              "  <script>\n",
              "    async function quickchart(key) {\n",
              "      const quickchartButtonEl =\n",
              "        document.querySelector('#' + key + ' button');\n",
              "      quickchartButtonEl.disabled = true;  // To prevent multiple clicks.\n",
              "      quickchartButtonEl.classList.add('colab-df-spinner');\n",
              "      try {\n",
              "        const charts = await google.colab.kernel.invokeFunction(\n",
              "            'suggestCharts', [key], {});\n",
              "      } catch (error) {\n",
              "        console.error('Error during call to suggestCharts:', error);\n",
              "      }\n",
              "      quickchartButtonEl.classList.remove('colab-df-spinner');\n",
              "      quickchartButtonEl.classList.add('colab-df-quickchart-complete');\n",
              "    }\n",
              "    (() => {\n",
              "      let quickchartButtonEl =\n",
              "        document.querySelector('#df-b65a1d7b-4b11-4a3d-b020-1fea8f0cfc4a button');\n",
              "      quickchartButtonEl.style.display =\n",
              "        google.colab.kernel.accessAllowed ? 'block' : 'none';\n",
              "    })();\n",
              "  </script>\n",
              "</div>\n",
              "\n",
              "    </div>\n",
              "  </div>\n"
            ]
          },
          "metadata": {},
          "execution_count": 51
        }
      ]
    },
    {
      "cell_type": "code",
      "source": [
        "# Drop rows with missing values.\n",
        "yellow_tripdata.dropna"
      ],
      "metadata": {
        "id": "VP3EWMIEo4sp",
        "outputId": "82b719b9-77a7-4e9a-be81-01dbc61a45ee",
        "colab": {
          "base_uri": "https://localhost:8080/"
        }
      },
      "execution_count": 52,
      "outputs": [
        {
          "output_type": "execute_result",
          "data": {
            "text/plain": [
              "<bound method DataFrame.dropna of          VendorID tpep_pickup_datetime tpep_dropoff_datetime  passenger_count  \\\n",
              "0               1  2022-01-01 00:35:40   2022-01-01 00:53:29              2.0   \n",
              "1               1  2022-01-01 00:33:43   2022-01-01 00:42:07              1.0   \n",
              "2               2  2022-01-01 00:53:21   2022-01-01 01:02:19              1.0   \n",
              "3               2  2022-01-01 00:25:21   2022-01-01 00:35:23              1.0   \n",
              "4               2  2022-01-01 00:36:48   2022-01-01 01:14:20              1.0   \n",
              "...           ...                  ...                   ...              ...   \n",
              "2463926         2  2022-01-31 23:36:53   2022-01-31 23:42:51              NaN   \n",
              "2463927         2  2022-01-31 23:44:22   2022-01-31 23:55:01              NaN   \n",
              "2463928         2  2022-01-31 23:39:00   2022-01-31 23:50:00              NaN   \n",
              "2463929         2  2022-01-31 23:36:42   2022-01-31 23:48:45              NaN   \n",
              "2463930         2  2022-01-31 23:46:00   2022-02-01 00:13:00              NaN   \n",
              "\n",
              "         trip_distance  RatecodeID store_and_fwd_flag  PULocationID  \\\n",
              "0                 3.80         1.0                  N           142   \n",
              "1                 2.10         1.0                  N           236   \n",
              "2                 0.97         1.0                  N           166   \n",
              "3                 1.09         1.0                  N           114   \n",
              "4                 4.30         1.0                  N            68   \n",
              "...                ...         ...                ...           ...   \n",
              "2463926           1.32         NaN               None            90   \n",
              "2463927           4.19         NaN               None           107   \n",
              "2463928           2.10         NaN               None           113   \n",
              "2463929           2.92         NaN               None           148   \n",
              "2463930           8.94         NaN               None           186   \n",
              "\n",
              "         DOLocationID  payment_type  fare_amount  extra  mta_tax  tip_amount  \\\n",
              "0                 236             1        14.50    3.0      0.5        3.65   \n",
              "1                  42             1         8.00    0.5      0.5        4.00   \n",
              "2                 166             1         7.50    0.5      0.5        1.76   \n",
              "3                  68             2         8.00    0.5      0.5        0.00   \n",
              "4                 163             1        23.50    0.5      0.5        3.00   \n",
              "...               ...           ...          ...    ...      ...         ...   \n",
              "2463926           170             0         8.00    0.0      0.5        2.39   \n",
              "2463927            75             0        16.80    0.0      0.5        4.35   \n",
              "2463928           246             0        11.22    0.0      0.5        2.00   \n",
              "2463929           164             0        12.40    0.0      0.5        0.00   \n",
              "2463930           181             0        25.48    0.0      0.5        6.28   \n",
              "\n",
              "         tolls_amount  improvement_surcharge  total_amount  \\\n",
              "0                 0.0                    0.3         21.95   \n",
              "1                 0.0                    0.3         13.30   \n",
              "2                 0.0                    0.3         10.56   \n",
              "3                 0.0                    0.3         11.80   \n",
              "4                 0.0                    0.3         30.30   \n",
              "...               ...                    ...           ...   \n",
              "2463926           0.0                    0.3         13.69   \n",
              "2463927           0.0                    0.3         24.45   \n",
              "2463928           0.0                    0.3         16.52   \n",
              "2463929           0.0                    0.3         15.70   \n",
              "2463930           0.0                    0.3         35.06   \n",
              "\n",
              "         congestion_surcharge  airport_fee  \n",
              "0                         2.5          0.0  \n",
              "1                         0.0          0.0  \n",
              "2                         0.0          0.0  \n",
              "3                         2.5          0.0  \n",
              "4                         2.5          0.0  \n",
              "...                       ...          ...  \n",
              "2463926                   NaN          NaN  \n",
              "2463927                   NaN          NaN  \n",
              "2463928                   NaN          NaN  \n",
              "2463929                   NaN          NaN  \n",
              "2463930                   NaN          NaN  \n",
              "\n",
              "[2463931 rows x 19 columns]>"
            ]
          },
          "metadata": {},
          "execution_count": 52
        }
      ]
    },
    {
      "cell_type": "markdown",
      "source": [
        "Feature engineering is a critical process in machine learning that involves selecting, transforming, and creating features from raw data to improve the performance and accuracy of predictive models. While machine learning algorithms have the capability to automatically learn patterns from data, the quality and relevance of the features used as inputs greatly influence the model's ability to generalize and make accurate predictions. Feature engineering, therefore, plays a crucial role in extracting meaningful information and representing it in a format that best captures the underlying relationships within the data.\n",
        "\n",
        "Here are your tasks:\n",
        "\n",
        "  1. Create a new feature that calculates the trip duration in minutes.\n",
        "  2. Create additional features for the pick-up day of week and pick-up hour.\n",
        "  3. Use the Seaborn library to create a [line plot](https://seaborn.pydata.org/generated/seaborn.lineplot.html) depicting the number of trips as a function of the hour of day. What's the busiest time of day?\n",
        "  4. Create another lineplot depicting the number of trips as a function of the day of week. What day of the week is the least busy?"
      ],
      "metadata": {
        "id": "u2i5l3QNFAf3"
      }
    },
    {
      "cell_type": "code",
      "source": [
        "# Create a new column for trip duration in minutes\n",
        "yellow_tripdata['trip_duration'] = yellow_tripdata['tpep_dropoff_datetime'] - yellow_tripdata['tpep_dropoff_datetime']"
      ],
      "metadata": {
        "id": "Wef2rR1Npl8f"
      },
      "execution_count": 53,
      "outputs": []
    },
    {
      "cell_type": "code",
      "source": [
        "# Create new columns for pickup hour and day of week\n",
        "yellow_tripdata['pickup_hour'] = yellow_tripdata['tpep_pickup_datetime'].dt.hour\n",
        "yellow_tripdata['pickup_day_of_week'] = yellow_tripdata['tpep_pickup_datetime'].dt.strftime(date_format='%A')"
      ],
      "metadata": {
        "id": "d13PYaN2FPFt"
      },
      "execution_count": 54,
      "outputs": []
    },
    {
      "cell_type": "code",
      "source": [
        "# Create a lineplot displaying the number of trips by pickup hour\n",
        "sns.lineplot(data=yellow_tripdata, x='pickup_hour', y=yellow_tripdata.index)"
      ],
      "metadata": {
        "id": "-Bf7bnS9uU-h",
        "outputId": "de43a0be-cd60-4dbf-e358-138352638ae9",
        "colab": {
          "base_uri": "https://localhost:8080/",
          "height": 483
        }
      },
      "execution_count": 55,
      "outputs": [
        {
          "output_type": "execute_result",
          "data": {
            "text/plain": [
              "<Axes: xlabel='pickup_hour'>"
            ]
          },
          "metadata": {},
          "execution_count": 55
        },
        {
          "output_type": "display_data",
          "data": {
            "text/plain": [
              "<Figure size 640x480 with 1 Axes>"
            ],
            "image/png": "[encoded data removed]"
          },
          "metadata": {}
        }
      ]
    },
    {
      "cell_type": "code",
      "source": [
        "# Create a lineplot displaying the number of trips by pickup day\n",
        "sns.lineplot(data=yellow_tripdata, x='pickup_day_of_week', y=yellow_tripdata.index)\n"
      ],
      "metadata": {
        "id": "iGjHC9lHuO8r",
        "outputId": "950410f1-69fc-4feb-9738-2f9e9a836b55",
        "colab": {
          "base_uri": "https://localhost:8080/",
          "height": 483
        }
      },
      "execution_count": 56,
      "outputs": [
        {
          "output_type": "execute_result",
          "data": {
            "text/plain": [
              "<Axes: xlabel='pickup_day_of_week'>"
            ]
          },
          "metadata": {},
          "execution_count": 56
        },
        {
          "output_type": "display_data",
          "data": {
            "text/plain": [
              "<Figure size 640x480 with 1 Axes>"
            ],
            "image/png": "[encoded data removed]"
          },
          "metadata": {}
        }
      ]
    },
    {
      "cell_type": "markdown",
      "source": [
        "In the realm of machine learning, understanding the relationships between variables is crucial for building accurate and effective predictive models. One powerful tool for exploring these relationships is the correlation matrix. A correlation matrix provides a comprehensive overview of the pairwise correlations between variables in a dataset, allowing practitioners to quantify and visualize the strength and direction of these associations. This matrix is an essential component of exploratory data analysis and offers several key benefits:\n",
        "\n",
        "1. Relationship Assessment: The correlation matrix provides a quantitative measure of the relationship between variables. By calculating correlation coefficients, typically using methods like Pearson's correlation coefficient, analysts can determine if variables are positively correlated (increase together), negatively correlated (one increases as the other decreases), or uncorrelated (no systematic relationship). These measures offer insights into the direction and strength of the relationships, helping to identify important variables that may influence the target variable.\n",
        "\n",
        "2. Feature Selection: Correlation matrices are invaluable in feature selection, which involves identifying the most relevant variables for building predictive models. By examining the correlations between the target variable and other features, analysts can identify highly correlated variables that may be strong predictors. This knowledge enables informed decisions regarding which variables to include in the model, potentially reducing dimensionality, enhancing model efficiency, and preventing issues such as multicollinearity.\n",
        "\n",
        "3. Multicollinearity Detection: Multicollinearity occurs when two or more independent variables in a model are highly correlated. This can lead to problems such as instability in coefficient estimates, difficulty in interpreting feature importance, and reduced model robustness. By examining the correlation matrix, analysts can identify highly correlated variables and make informed decisions about which ones to include or exclude to mitigate multicollinearity. Removing redundant variables improves model interpretability and generalization.\n",
        "\n",
        "Here is your task:\n",
        "\n",
        "  1. Compute a correlation matrix between the variables 'trip_distance', 'fare_amount', 'tip_amount', 'total_amount', 'trip_duration' and use Seaborn to create a heatmap of the results. Which variables are strongly correlated?"
      ],
      "metadata": {
        "id": "yVQLUFXPGe4e"
      }
    },
    {
      "cell_type": "code",
      "source": [
        "# Compute correlation matrix of numerical variables\n",
        "numerical_yellow_tripdata = yellow_tripdata[['trip_distance', 'fare_amount', 'tip_amount', 'total_amount', 'trip_duration']]\n",
        "corr = numerical_yellow_tripdata.corr(numeric_only=True)\n",
        "\n",
        "# Create a heatmap of the correlation matrix\n",
        "sns.heatmap(data=corr)"
      ],
      "metadata": {
        "id": "XCY8MrLAppQz",
        "outputId": "970d62c8-a01b-4ed8-8a51-8039c17b1c0b",
        "colab": {
          "base_uri": "https://localhost:8080/",
          "height": 453
        }
      },
      "execution_count": 57,
      "outputs": [
        {
          "output_type": "execute_result",
          "data": {
            "text/plain": [
              "<Axes: >"
            ]
          },
          "metadata": {},
          "execution_count": 57
        },
        {
          "output_type": "display_data",
          "data": {
            "text/plain": [
              "<Figure size 640x480 with 2 Axes>"
            ],
            "image/png": "[encoded data removed]"
          },
          "metadata": {}
        }
      ]
    },
    {
      "cell_type": "markdown",
      "source": [
        "Pairplots, also known as scatterplot matrices, allow for the visualization of pairwise relationships between multiple variables simultaneously. Each subplot in the pairplot represents the scatterplot of one variable against another. Pairplots offer several advantages in EDA:\n",
        "\n",
        "  - Variable Relationships: Pairplots enable analysts to explore the relationships between variables, revealing patterns such as linear or nonlinear correlations, clusters, or other associations. These visual cues guide further analysis, feature selection, or modeling decisions.\n",
        "\n",
        "  - Multivariate Analysis: Pairplots help identify multivariate dependencies and interactions, highlighting how different variables jointly influence one another. This is particularly valuable in identifying potential confounding factors or discovering hidden interactions that may not be apparent when considering variables in isolation.\n",
        "\n",
        "  - Outlier Detection: Pairplots can reveal potential outliers by showing data points that deviate significantly from the general pattern observed between variables. Outliers can indicate data anomalies or influential observations that may impact model performance.\n",
        "\n",
        "  - Feature Importance: Pairplots provide an intuitive representation of the relative importance of different features. Variables exhibiting strong correlations or clear patterns may be more relevant for predictive modeling or feature selection.\n",
        "\n",
        "  - Data Quality: Pairplots can help identify data quality issues, such as data entry errors or measurement inconsistencies. Patterns that do not align with expectations or exhibit unusual trends may signal data problems that require further investigation or preprocessing.\n",
        "\n",
        "Here is your task:\n",
        "\n",
        "  1. Create a [pairplot matrix](https://seaborn.pydata.org/generated/seaborn.pairplot.html) using Seaborn to observation the relationship between the following variables: trip_distance, fare_amount, tip_amount, total_amount, trip_duration. Note, pairplots can be memory intensive. Try sampling the dataset using the [sample method](https://pandas.pydata.org/docs/reference/api/pandas.DataFrame.sample.html) in Pandas. Which variables appear to have a strong relationship? Which variables seem to have no relationship?"
      ],
      "metadata": {
        "id": "Eh6TJ8iRJHDm"
      }
    },
    {
      "cell_type": "code",
      "source": [
        "# Create a scatter plot matrix of numerical variables. If memory issues try the df.sample method.\n",
        "sns.scatterplot(data=numerical_yellow_tripdata)"
      ],
      "metadata": {
        "id": "l_v24Ym3p8A-",
        "outputId": "08682813-f853-423e-be16-e028b0cdddd0",
        "colab": {
          "base_uri": "https://localhost:8080/",
          "height": 466
        }
      },
      "execution_count": 58,
      "outputs": [
        {
          "output_type": "execute_result",
          "data": {
            "text/plain": [
              "<Axes: >"
            ]
          },
          "metadata": {},
          "execution_count": 58
        },
        {
          "output_type": "display_data",
          "data": {
            "text/plain": [
              "<Figure size 640x480 with 1 Axes>"
            ],
            "image/png": "[encoded data removed]"
          },
          "metadata": {}
        }
      ]
    },
    {
      "cell_type": "markdown",
      "source": [
        "A count plot is a type of categorical plot that displays the number of occurrences of each category in a dataset. It is particularly useful for visualizing the distribution and frequency of categorical variables. Here are some key uses and benefits of count plots:\n",
        "\n",
        "  - Categorical Variable Exploration: Count plots provide a quick and concise summary of the distribution of categorical variables. They allow analysts to understand the frequency or count of each category, revealing the proportions and imbalances within the dataset. This information is crucial for gaining insights into the composition and characteristics of categorical variables.\n",
        "\n",
        "  - Class Imbalance Assessment: In classification tasks, count plots help assess the balance or imbalance of different target classes. It provides a visual representation of the distribution of classes, highlighting any significant discrepancies in the sample sizes across categories. Identifying imbalanced classes is important in machine learning as it can affect model performance and bias the predictions towards the majority class.\n",
        "\n",
        "  - Data Quality Inspection: Count plots can be utilized to detect data quality issues in categorical variables. It allows analysts to identify unexpected or erroneous categories that may indicate data entry errors, missing data, or inconsistencies in the dataset. By observing the counts for each category, anomalies or discrepancies can be easily spotted, enabling data cleaning or further investigation if necessary.\n",
        "\n",
        "  - Feature Importance Evaluation: Count plots can provide insights into the importance or relevance of different categorical features in relation to the target variable. By visualizing the distribution of categories within each class or target level, analysts can determine which categories are more prevalent or have higher frequencies for specific outcomes. This understanding helps in assessing the discriminatory power of categorical features and their potential impact on predictive models.\n",
        "\n",
        "Here is your task:\n",
        "\n",
        "  1. Use Seaborn to create a [countplot](https://seaborn.pydata.org/generated/seaborn.countplot.html) for the variables PULocationID, and DOLocationID. Keep only the top 15 pick-up and drop-off locations. What's the most popular pick-up location?"
      ],
      "metadata": {
        "id": "OA1p83hesFkH"
      }
    },
    {
      "cell_type": "code",
      "source": [
        "# Create a Seaborn countplot for PULocationID and DOLocationID. Only plot the top 15 categories by value counts.\n",
        "pu_location_ids = yellow_tripdata['PULocationID'].value_counts().head(15)\n",
        "do_location_ids = yellow_tripdata['DOLocationID'].value_counts().head(15)\n",
        "\n",
        "location_ids = pd.concat([pu_location_ids, do_location_ids], axis=1)\n",
        "\n",
        "sns.countplot(data=location_ids)"
      ],
      "metadata": {
        "id": "eigDjtkTruQD",
        "outputId": "9681d08a-93ca-46e1-9a1a-68a85f8d44b8",
        "colab": {
          "base_uri": "https://localhost:8080/",
          "height": 448
        }
      },
      "execution_count": 84,
      "outputs": [
        {
          "output_type": "execute_result",
          "data": {
            "text/plain": [
              "<Axes: ylabel='count'>"
            ]
          },
          "metadata": {},
          "execution_count": 84
        },
        {
          "output_type": "display_data",
          "data": {
            "text/plain": [
              "<Figure size 640x480 with 1 Axes>"
            ],
            "image/png": "[encoded data removed]"
          },
          "metadata": {}
        }
      ]
    },
    {
      "cell_type": "markdown",
      "source": [
        "A box plot, also known as a box-and-whisker plot, is a powerful visualization tool for displaying the distribution, variability, and outliers within a numerical dataset. It provides a concise summary of key statistical measures and offers several important uses:\n",
        "\n",
        "  - Data Distribution and Skewness: Box plots offer a visual representation of the distribution of numerical data, providing insights into its central tendency, spread, and skewness. The box represents the interquartile range (IQR), which contains the middle 50% of the data, with the median indicated by a horizontal line within the box. By observing the length and symmetry of the box, analysts can assess whether the data is skewed or symmetrically distributed.\n",
        "\n",
        "  - Outlier Detection: Box plots are highly effective in identifying outliers, which are data points that deviate significantly from the rest of the distribution. The whiskers of the plot extend to the minimum and maximum non-outlier values, with any data points beyond the whiskers considered as potential outliers. Outliers can indicate data errors, anomalies, or important observations requiring further investigation.\n",
        "\n",
        "  - Comparing Groups or Categories: Box plots are useful for comparing the distributions of numerical data across different groups or categories. By creating side-by-side or grouped box plots, analysts can easily compare the central tendencies, spreads, and shapes of distributions between different groups. This allows for the identification of differences, similarities, or patterns within the data.\n",
        "\n",
        "  - Variability and Spread: Box plots provide insights into the variability and spread of the data. The length of the box indicates the spread of the middle 50% of the data, while the whiskers show the range of non-outlier values. By comparing the lengths of the boxes and whiskers, analysts can assess the relative variability between different groups or categories, aiding in the understanding of the data's dispersion.\n",
        "\n",
        "  - Skewedness and Symmetry: Box plots offer a visual assessment of the skewness or symmetry of the data distribution. A symmetrical distribution is represented by a box plot with an equal length on both sides of the median, while a skewed distribution is indicated by a longer box on one side. This visual cue helps in understanding the shape and characteristics of the data, assisting in further analysis and modeling decisions.\n",
        "\n",
        "  - Data Range and Quartiles: Box plots display the quartiles of the data distribution. The lower quartile (Q1) represents the 25th percentile, the upper quartile (Q3) represents the 75th percentile, and the interquartile range (IQR) is the range between Q1 and Q3. These quartiles provide a summary of the range and spread of the central portion of the data, aiding in the understanding of the data's variability and dispersion.\n",
        "\n",
        "Your task is:\n",
        "\n",
        "  1. Use Seaborn's [boxplot](https://seaborn.pydata.org/generated/seaborn.boxplot.html) to discern the relationship between payment_type and total_amount. Does anything look weird? Can you explain what's going on?"
      ],
      "metadata": {
        "id": "Bbl-WZtctVbH"
      }
    },
    {
      "cell_type": "code",
      "execution_count": 88,
      "metadata": {
        "id": "fM_2IGKrk8Vy",
        "outputId": "692c1152-5cf3-44c1-b1ac-27b2d18c2860",
        "colab": {
          "base_uri": "https://localhost:8080/",
          "height": 448
        }
      },
      "outputs": [
        {
          "output_type": "execute_result",
          "data": {
            "text/plain": [
              "<Axes: >"
            ]
          },
          "metadata": {},
          "execution_count": 88
        },
        {
          "output_type": "display_data",
          "data": {
            "text/plain": [
              "<Figure size 640x480 with 1 Axes>"
            ],
            "image/png": "[encoded data removed]"
          },
          "metadata": {}
        }
      ],
      "source": [
        "# Create a box plot of total amount by payment type. Do you see anything odd?\n",
        "total_amount = yellow_tripdata['total_amount']\n",
        "payment_type = yellow_tripdata['payment_type']\n",
        "\n",
        "total_amount_by_payment_type = pd.concat([total_amount, payment_type], axis=1)\n",
        "\n",
        "sns.boxplot(data=total_amount_by_payment_type)"
      ]
    },
    {
      "cell_type": "markdown",
      "source": [
        "A histogram is a graphical representation that displays the distribution of a continuous or discrete numerical variable. It provides insights into the underlying data distribution and helps uncover patterns, frequencies, and ranges within the dataset. Here are some key uses and benefits of histogram plots:\n",
        "\n",
        "  - Data Distribution: Histograms allow analysts to visualize the shape, central tendency, and spread of the data. They provide an overview of the data distribution, helping to identify if it follows a particular pattern, such as a normal distribution, skewed distribution, bimodal distribution, or multimodal distribution. Understanding the data distribution aids in selecting appropriate analysis techniques and understanding the characteristics of the data.\n",
        "\n",
        "  - Frequency Analysis: Histograms display the frequency or count of data points within predefined bins or intervals along the x-axis. By observing the height or count of each bin, analysts can identify the frequency of occurrence for different values or value ranges. This information helps assess the concentration of data points and identify peaks or modes in the distribution.\n",
        "\n",
        "  - Outlier Detection: Histograms can assist in identifying outliers, which are data points that significantly deviate from the rest of the distribution. Outliers may indicate data errors, unusual observations, or important anomalies requiring further investigation. By examining the tails or extreme values in the histogram, analysts can identify potential outliers that may require additional scrutiny.\n",
        "\n",
        "  - Data Range and Spread: Histograms provide insights into the range and spread of the data. The x-axis represents the variable's values, while the y-axis represents the frequency or count of occurrences. By observing the width and span of the histogram, analysts can assess the data's range and variability. This information helps understand the data's spread and aids in subsequent analysis or decision-making processes.\n",
        "\n",
        "  - Feature Engineering: Histograms can guide feature engineering processes by informing appropriate transformations, binning strategies, or encoding techniques for numerical variables. They assist in identifying nonlinear relationships or determining optimal cut-off points for converting continuous variables into categorical ones. Histograms also help identify data skewness and guide transformation methods to address the skew if necessary.\n",
        "\n",
        "  - Data Quality Inspection: Histograms can be useful in detecting data quality issues or anomalies. Unusual spikes, gaps, or unexpected patterns in the histogram may indicate data entry errors, measurement inconsistencies, or missing data. By observing the histogram, analysts can identify potential data quality issues that require further investigation or preprocessing.\n",
        "\n",
        "Your task is:\n",
        "\n",
        "  1. Use Seaborn's [histplot](https://seaborn.pydata.org/generated/seaborn.histplot.html) to explore the data distributions for fare_amount, trip_distance, and extra. Use kernel density estimators to better visualize the distribution. Use sampling if you run into any memory issues."
      ],
      "metadata": {
        "id": "CnV0dIHquPtf"
      }
    },
    {
      "cell_type": "code",
      "source": [
        "# Explore data distributions for 'fare_amount', 'trip_distance' and 'extra' using Seaborn's histplot. Sample the data if you run into memory issues.\n",
        "fare_amount = yellow_tripdata['fare_amount']\n",
        "trip_distance = yellow_tripdata['trip_distance']\n",
        "extra = yellow_tripdata['extra']\n",
        "\n",
        "fare_distance_extra = pd.concat([fare_amount, trip_distance, extra], axis=1)\n",
        "sample_fare_distance_extra = fare_distance_extra.sample()\n",
        "\n",
        "sns.histplot(sample_fare_distance_extra)"
      ],
      "metadata": {
        "id": "8HI3uXHCyI_B",
        "outputId": "dfe93703-0ca1-4a2a-b55b-0f40a098fea9",
        "colab": {
          "base_uri": "https://localhost:8080/",
          "height": 448
        }
      },
      "execution_count": 92,
      "outputs": [
        {
          "output_type": "execute_result",
          "data": {
            "text/plain": [
              "<Axes: ylabel='Count'>"
            ]
          },
          "metadata": {},
          "execution_count": 92
        },
        {
          "output_type": "display_data",
          "data": {
            "text/plain": [
              "<Figure size 640x480 with 1 Axes>"
            ],
            "image/png": "[encoded data removed]"
          },
          "metadata": {}
        }
      ]
    }
  ]
}